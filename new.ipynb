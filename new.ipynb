{
 "cells": [
  {
   "cell_type": "markdown",
   "metadata": {},
   "source": [
    "Obesity Notebook"
   ]
  },
  {
   "cell_type": "code",
   "execution_count": 2,
   "metadata": {},
   "outputs": [],
   "source": [
    "import pandas as pd \n",
    "import numpy as np\n",
    "import matplotlib.pylab as plt\n",
    "import seaborn as sns\n",
    "\n",
    "plt.style.use('ggplot')\n"
   ]
  },
  {
   "cell_type": "code",
   "execution_count": 3,
   "metadata": {},
   "outputs": [],
   "source": [
    "df = pd.read_csv('/workspaces/DataAnalsyt/obesity.csv')"
   ]
  },
  {
   "cell_type": "code",
   "execution_count": 4,
   "metadata": {},
   "outputs": [
    {
     "data": {
      "text/plain": [
       "<bound method NDFrame.head of       Gender        Age  family_history_with_overweight  FAVC  FCVC  NCP  \\\n",
       "0          0  21.000000                               1     0   2.0  3.0   \n",
       "1          0  21.000000                               1     0   3.0  3.0   \n",
       "2          1  23.000000                               1     0   2.0  3.0   \n",
       "3          1  27.000000                               0     0   3.0  3.0   \n",
       "4          1  22.000000                               0     0   2.0  1.0   \n",
       "...      ...        ...                             ...   ...   ...  ...   \n",
       "2106       0  20.976842                               1     1   3.0  3.0   \n",
       "2107       0  21.982942                               1     1   3.0  3.0   \n",
       "2108       0  22.524036                               1     1   3.0  3.0   \n",
       "2109       0  24.361936                               1     1   3.0  3.0   \n",
       "2110       0  23.664709                               1     1   3.0  3.0   \n",
       "\n",
       "      CAEC  SMOKE      CH2O  SCC       FAF       TUE  CALC  Automobile  Bike  \\\n",
       "0        1      0  2.000000    0  0.000000  1.000000     0           0     0   \n",
       "1        1      1  3.000000    1  3.000000  0.000000     1           0     0   \n",
       "2        1      0  2.000000    0  2.000000  1.000000     2           0     0   \n",
       "3        1      0  2.000000    0  2.000000  0.000000     2           0     0   \n",
       "4        1      0  2.000000    0  0.000000  0.000000     1           0     0   \n",
       "...    ...    ...       ...  ...       ...       ...   ...         ...   ...   \n",
       "2106     1      0  1.728139    0  1.676269  0.906247     1           0     0   \n",
       "2107     1      0  2.005130    0  1.341390  0.599270     1           0     0   \n",
       "2108     1      0  2.054193    0  1.414209  0.646288     1           0     0   \n",
       "2109     1      0  2.852339    0  1.139107  0.586035     1           0     0   \n",
       "2110     1      0  2.863513    0  1.026452  0.714137     1           0     0   \n",
       "\n",
       "      Motorbike  Public_Transportation  Walking  NObeyesdad  \n",
       "0             0                      1        0           0  \n",
       "1             0                      1        0           0  \n",
       "2             0                      1        0           0  \n",
       "3             0                      0        1           0  \n",
       "4             0                      1        0           0  \n",
       "...         ...                    ...      ...         ...  \n",
       "2106          0                      1        0           1  \n",
       "2107          0                      1        0           1  \n",
       "2108          0                      1        0           1  \n",
       "2109          0                      1        0           1  \n",
       "2110          0                      1        0           1  \n",
       "\n",
       "[2111 rows x 19 columns]>"
      ]
     },
     "execution_count": 4,
     "metadata": {},
     "output_type": "execute_result"
    }
   ],
   "source": [
    "df.head"
   ]
  },
  {
   "cell_type": "code",
   "execution_count": 15,
   "metadata": {},
   "outputs": [],
   "source": [
    "df = df.rename(columns={'FAVC':'High_caloric_food', 'FCVC': 'Vegetables_in_meals', 'NCP': 'Daily_meal_amounts', 'CAEC': 'Snacks_Between_Meals' , 'CH2O' : 'Water_intake', \n",
    "                        'SCC' :'Monitors_caloric_intake' , 'FAF' : 'Physical_activity' , 'TUE' : 'Screen_exposure' , 'CALC' : 'Alcohol_intake' , 'NObeyesdad' : 'Patient_Obese' })"
   ]
  },
  {
   "cell_type": "code",
   "execution_count": 16,
   "metadata": {},
   "outputs": [
    {
     "data": {
      "text/plain": [
       "Index(['Gender', 'Age', 'family_history_with_overweight', 'High_caloric_food',\n",
       "       'Vegetables_in_meals', 'Daily_meal_amounts', 'Snacks_Between_Meals',\n",
       "       'SMOKE', 'Water_intake', 'Monitors_caloric_intake', 'Physical_activity',\n",
       "       'Screen_exposure', 'Alcohol_intake', 'Automobile', 'Bike', 'Motorbike',\n",
       "       'Public_Transportation', 'Walking', 'Patient_Obese'],\n",
       "      dtype='object')"
      ]
     },
     "execution_count": 16,
     "metadata": {},
     "output_type": "execute_result"
    }
   ],
   "source": [
    "df.columns"
   ]
  },
  {
   "cell_type": "code",
   "execution_count": 7,
   "metadata": {},
   "outputs": [
    {
     "data": {
      "text/plain": [
       "(2111, 19)"
      ]
     },
     "execution_count": 7,
     "metadata": {},
     "output_type": "execute_result"
    }
   ],
   "source": [
    "df.shape"
   ]
  },
  {
   "cell_type": "code",
   "execution_count": 8,
   "metadata": {},
   "outputs": [
    {
     "data": {
      "text/plain": [
       "<bound method NDFrame.head of       Gender        Age  family_history_with_overweight  High_caloric_food  \\\n",
       "0          0  21.000000                               1                  0   \n",
       "1          0  21.000000                               1                  0   \n",
       "2          1  23.000000                               1                  0   \n",
       "3          1  27.000000                               0                  0   \n",
       "4          1  22.000000                               0                  0   \n",
       "...      ...        ...                             ...                ...   \n",
       "2106       0  20.976842                               1                  1   \n",
       "2107       0  21.982942                               1                  1   \n",
       "2108       0  22.524036                               1                  1   \n",
       "2109       0  24.361936                               1                  1   \n",
       "2110       0  23.664709                               1                  1   \n",
       "\n",
       "      Vegetables_in_meals  Daily_meal_amounts  Snacks_Between_Meals  SMOKE  \\\n",
       "0                     2.0                 3.0                     1      0   \n",
       "1                     3.0                 3.0                     1      1   \n",
       "2                     2.0                 3.0                     1      0   \n",
       "3                     3.0                 3.0                     1      0   \n",
       "4                     2.0                 1.0                     1      0   \n",
       "...                   ...                 ...                   ...    ...   \n",
       "2106                  3.0                 3.0                     1      0   \n",
       "2107                  3.0                 3.0                     1      0   \n",
       "2108                  3.0                 3.0                     1      0   \n",
       "2109                  3.0                 3.0                     1      0   \n",
       "2110                  3.0                 3.0                     1      0   \n",
       "\n",
       "      Water_intake  Monitors_caloric_intake  Physical_activity  \\\n",
       "0         2.000000                        0           0.000000   \n",
       "1         3.000000                        1           3.000000   \n",
       "2         2.000000                        0           2.000000   \n",
       "3         2.000000                        0           2.000000   \n",
       "4         2.000000                        0           0.000000   \n",
       "...            ...                      ...                ...   \n",
       "2106      1.728139                        0           1.676269   \n",
       "2107      2.005130                        0           1.341390   \n",
       "2108      2.054193                        0           1.414209   \n",
       "2109      2.852339                        0           1.139107   \n",
       "2110      2.863513                        0           1.026452   \n",
       "\n",
       "      Screen_exposure  Alcohol_intake  Automobile  Bike  Motorbike  \\\n",
       "0            1.000000               0           0     0          0   \n",
       "1            0.000000               1           0     0          0   \n",
       "2            1.000000               2           0     0          0   \n",
       "3            0.000000               2           0     0          0   \n",
       "4            0.000000               1           0     0          0   \n",
       "...               ...             ...         ...   ...        ...   \n",
       "2106         0.906247               1           0     0          0   \n",
       "2107         0.599270               1           0     0          0   \n",
       "2108         0.646288               1           0     0          0   \n",
       "2109         0.586035               1           0     0          0   \n",
       "2110         0.714137               1           0     0          0   \n",
       "\n",
       "      Public_Transportation  Walking  NObeyesdad  \n",
       "0                         1        0           0  \n",
       "1                         1        0           0  \n",
       "2                         1        0           0  \n",
       "3                         0        1           0  \n",
       "4                         1        0           0  \n",
       "...                     ...      ...         ...  \n",
       "2106                      1        0           1  \n",
       "2107                      1        0           1  \n",
       "2108                      1        0           1  \n",
       "2109                      1        0           1  \n",
       "2110                      1        0           1  \n",
       "\n",
       "[2111 rows x 19 columns]>"
      ]
     },
     "execution_count": 8,
     "metadata": {},
     "output_type": "execute_result"
    }
   ],
   "source": [
    "df.head"
   ]
  },
  {
   "cell_type": "code",
   "execution_count": 17,
   "metadata": {},
   "outputs": [],
   "source": [
    "filtered_df = df.query('Gender == 1')\n",
    "filtered_df = df.query('Patient_Obese == 1')"
   ]
  },
  {
   "cell_type": "code",
   "execution_count": 24,
   "metadata": {},
   "outputs": [
    {
     "name": "stdout",
     "output_type": "stream",
     "text": [
      "      Gender        Age  family_history_with_overweight  High_caloric_food  \\\n",
      "10         1  26.000000                               1                  1   \n",
      "13         1  41.000000                               0                  1   \n",
      "17         0  29.000000                               0                  1   \n",
      "21         0  52.000000                               1                  1   \n",
      "23         0  22.000000                               1                  1   \n",
      "...      ...        ...                             ...                ...   \n",
      "2106       0  20.976842                               1                  1   \n",
      "2107       0  21.982942                               1                  1   \n",
      "2108       0  22.524036                               1                  1   \n",
      "2109       0  24.361936                               1                  1   \n",
      "2110       0  23.664709                               1                  1   \n",
      "\n",
      "      Vegetables_in_meals  Daily_meal_amounts  Snacks_Between_Meals  SMOKE  \\\n",
      "10                    3.0                 3.0                     2      0   \n",
      "13                    2.0                 3.0                     1      0   \n",
      "17                    2.0                 1.0                     1      0   \n",
      "21                    3.0                 1.0                     1      1   \n",
      "23                    1.0                 1.0                     1      0   \n",
      "...                   ...                 ...                   ...    ...   \n",
      "2106                  3.0                 3.0                     1      0   \n",
      "2107                  3.0                 3.0                     1      0   \n",
      "2108                  3.0                 3.0                     1      0   \n",
      "2109                  3.0                 3.0                     1      0   \n",
      "2110                  3.0                 3.0                     1      0   \n",
      "\n",
      "      Water_intake  Monitors_caloric_intake  Physical_activity  \\\n",
      "10        3.000000                        0           2.000000   \n",
      "13        2.000000                        0           2.000000   \n",
      "17        2.000000                        0           0.000000   \n",
      "21        2.000000                        0           0.000000   \n",
      "23        2.000000                        0           0.000000   \n",
      "...            ...                      ...                ...   \n",
      "2106      1.728139                        0           1.676269   \n",
      "2107      2.005130                        0           1.341390   \n",
      "2108      2.054193                        0           1.414209   \n",
      "2109      2.852339                        0           1.139107   \n",
      "2110      2.863513                        0           1.026452   \n",
      "\n",
      "      Screen_exposure  Alcohol_intake  Automobile  Bike  Motorbike  \\\n",
      "10           2.000000               1           0     0          0   \n",
      "13           1.000000               2           1     0          0   \n",
      "17           0.000000               0           1     0          0   \n",
      "21           0.000000               0           1     0          0   \n",
      "23           2.000000               1           0     0          0   \n",
      "...               ...             ...         ...   ...        ...   \n",
      "2106         0.906247               1           0     0          0   \n",
      "2107         0.599270               1           0     0          0   \n",
      "2108         0.646288               1           0     0          0   \n",
      "2109         0.586035               1           0     0          0   \n",
      "2110         0.714137               1           0     0          0   \n",
      "\n",
      "      Public_Transportation  Walking  Patient_Obese  \n",
      "10                        1        0              1  \n",
      "13                        0        0              1  \n",
      "17                        0        0              1  \n",
      "21                        0        0              1  \n",
      "23                        1        0              1  \n",
      "...                     ...      ...            ...  \n",
      "2106                      1        0              1  \n",
      "2107                      1        0              1  \n",
      "2108                      1        0              1  \n",
      "2109                      1        0              1  \n",
      "2110                      1        0              1  \n",
      "\n",
      "[972 rows x 19 columns]\n"
     ]
    }
   ],
   "source": [
    "print(filtered_df)\n",
    "pd.set_option('display.max_columns', None)\n"
   ]
  },
  {
   "cell_type": "code",
   "execution_count": null,
   "metadata": {},
   "outputs": [],
   "source": []
  }
 ],
 "metadata": {
  "kernelspec": {
   "display_name": "Python 3",
   "language": "python",
   "name": "python3"
  },
  "language_info": {
   "codemirror_mode": {
    "name": "ipython",
    "version": 3
   },
   "file_extension": ".py",
   "mimetype": "text/x-python",
   "name": "python",
   "nbconvert_exporter": "python",
   "pygments_lexer": "ipython3",
   "version": "3.10.13"
  }
 },
 "nbformat": 4,
 "nbformat_minor": 2
}
